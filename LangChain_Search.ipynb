{
  "cells": [
    {
      "cell_type": "markdown",
      "metadata": {
        "id": "view-in-github",
        "colab_type": "text"
      },
      "source": [
        "<a href=\"https://colab.research.google.com/github/cuticle999/langchain-example/blob/main/LangChain_Search.ipynb\" target=\"_parent\"><img src=\"https://colab.research.google.com/assets/colab-badge.svg\" alt=\"Open In Colab\"/></a>"
      ]
    },
    {
      "cell_type": "code",
      "source": [
        "!pip install openai==1.23.6 -q\n",
        "!pip install langchain==0.1.16 -q\n",
        "!pip install langchain-openai==0.1.3 -q"
      ],
      "metadata": {
        "id": "wTwAfQXn0U5o"
      },
      "execution_count": null,
      "outputs": []
    },
    {
      "cell_type": "code",
      "source": [
        "from langchain.utilities import BingSearchAPIWrapper\n",
        "from langchain.agents import initialize_agent, load_tools\n",
        "import langchain\n",
        "from langchain.chat_models import ChatOpenAI\n",
        "import os\n",
        "import openai\n",
        "\n",
        "from google.colab import userdata\n",
        "os.environ[\"OPENAI_API_KEY\"] = userdata.get(\"OPENAI_API_KEY\")\n",
        "os.environ[\"BING_SUBSCRIPTION_KEY\"] = userdata.get(\"BING_SUBSCRIPTION_KEY\")\n",
        "os.environ[\"BING_SEARCH_URL\"] = userdata.get(\"BING_SEARCH_URL\")\n",
        "\n",
        "llm = ChatOpenAI(model=\"gpt-3.5\")\n",
        "\n",
        "# BingSearchAPIWrapperのインスタンスを作成\n",
        "search = BingSearchAPIWrapper()\n",
        "\n",
        "# 検索の実行\n",
        "results = search.run(\"現在の日本の総理大臣は誰ですか？\")\n",
        "\n",
        "# 結果の表示\n",
        "print(results)"
      ],
      "metadata": {
        "colab": {
          "base_uri": "https://localhost:8080/"
        },
        "id": "0qvYJwMnikVp",
        "outputId": "d7e31a27-89f4-43e9-d02c-57779ca71dee"
      },
      "execution_count": 7,
      "outputs": [
        {
          "output_type": "stream",
          "name": "stdout",
          "text": [
            "衆議院. 内閣官房副長官. 磯﨑 仁彦（いそざき よしひこ）. 参議院. 内閣官房副長官. 栗生 俊一（くりゅう しゅんいち）. 内閣法制局長官. 近藤 正春（こんどう まさはる）. 令和3年10月4日に発足した岸田内閣<b>の</b>閣僚等名簿をご紹介します。. 内閣官房副長官. 森屋 宏（もりや ひろし）. 参議院. 内閣官房副長官. 栗生 俊一（くりゅう しゅんいち）. 内閣法制局長官. 近藤 正春（こんどう まさはる）. 令和5年9月13日に発足した第2次岸田第2次改造内閣<b>の</b> 閣僚等名簿をご紹介します。. <b>内閣総理大臣の</b>一覧（ない<b>か</b>くそうりだいじん<b>の</b>いちらん）<b>は</b>、<b>日本の</b> ... 2022年（令和4年）7月8日<b>現在</b>、安倍晋三<b>の</b>死去に伴い、現職者<b>の</b>岸田文雄を除く存命中<b>の内閣総理大臣</b>経験者<b>は</b>、以下<b>の</b>10名である。 特命担当大臣<b>は</b>、岸田<b>内閣総理大臣の</b>リーダーシップを発揮できるよう補佐するため、国政上<b>の</b>重要政策に関する企画立案・総合調整等を強力かつ迅速に行うため、内閣府に限って置かれています。. このコーナーで<b>は</b>、こうした大臣等<b>の</b>最近<b>の</b>活動を写真 ... この項目で<b>は</b>、 <b>日本</b> <b>の</b> 首相 について説明しています。. その他<b>の</b>用法について<b>は</b>「 <b>内閣総理大臣</b> (曖昧さ回避) 」をご覧ください。. <b>内閣総理大臣</b> （ない<b>か</b>くそうりだいじん、 英: Prime Minister [1] ）<b>は</b>、 <b>日本</b> <b>の</b> 内閣 <b>の</b> 首長 たる 国務大臣 [2] 。. 文民 で ... 歴代内閣<b>の</b> 情報をご覧に ... これまで<b>の総理大臣</b>および 内閣<b>の</b>閣僚名簿をご紹介します。 現職. 第101代. 岸田 文雄. 在職日数 日. 令和3年11月10日～<b>現在</b>. 岸田<b>総理大臣</b>と19人<b>の</b>閣僚<b>の</b>平均年齢<b>は</b>、第2次岸田第2次改造内閣が正式に発足する13日<b>の</b>時点で63.5歳と、去年8月に第2次岸田改造内閣が発足した ... <b>日本</b> 岸田文雄 首相. G7 広島サミットで議長を務める<b>日本の</b>岸田文雄<b>総理大臣の</b>詳しい情報<b>です</b>。. 年齢<b>は</b>、2023年5月19日時点<b>の</b>もの<b>です</b>。. 役職 ... 新内閣<b>は</b>どのように発足し. <b>総理大臣は</b>どう誕生する<b>のか</b>. 10月4日、臨時国会が召集され、菅<b>総理大臣の</b>後任となる第100代<b>総理大臣</b>に自民党<b>の</b>岸田 ... 紹介 <b>内閣総理大臣の</b>一覧; <b>内閣総理大臣の</b>一覧 明治時代 (1868年 - 1912年) 大正時代 (1912年 - 1926年) 昭和時代 (1926年 - 1989年) 平成時代 (1989年 - 2019年) 令和時代 (2019年 - <b>現在</b>) <b>内閣総理大臣の</b>年表; 存命中<b>の内閣総理大臣</b>経験者; 脚注 注釈 出典; 関連項目; 外部リンク\n"
          ]
        }
      ]
    }
  ],
  "metadata": {
    "kernelspec": {
      "display_name": "Python 3 (ipykernel)",
      "language": "python",
      "name": "python3"
    },
    "language_info": {
      "codemirror_mode": {
        "name": "ipython",
        "version": 3
      },
      "file_extension": ".py",
      "mimetype": "text/x-python",
      "name": "python",
      "nbconvert_exporter": "python",
      "pygments_lexer": "ipython3",
      "version": "3.12.3"
    },
    "colab": {
      "provenance": [],
      "include_colab_link": true
    }
  },
  "nbformat": 4,
  "nbformat_minor": 0
}